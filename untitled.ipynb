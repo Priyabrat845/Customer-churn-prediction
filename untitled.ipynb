{
  "nbformat": 4,
  "nbformat_minor": 0,
  "metadata": {
    "colab": {
      "name": "untitled.ipynb",
      "provenance": [],
      "mount_file_id": "1sRbt4PlVy4Swj5u2hQuSUrfcO27tuqQZ",
      "authorship_tag": "ABX9TyOSaJ9YKrhr0KD2O+Unnhck",
      "include_colab_link": true
    },
    "kernelspec": {
      "name": "python3",
      "display_name": "Python 3"
    },
    "language_info": {
      "name": "python"
    }
  },
  "cells": [
    {
      "cell_type": "markdown",
      "metadata": {
        "id": "view-in-github",
        "colab_type": "text"
      },
      "source": [
        "<a href=\"https://colab.research.google.com/github/Priyabrat845/Customer-churn-prediction/blob/main/untitled.ipynb\" target=\"_parent\"><img src=\"https://colab.research.google.com/assets/colab-badge.svg\" alt=\"Open In Colab\"/></a>"
      ]
    },
    {
      "cell_type": "markdown",
      "metadata": {
        "id": "eLzhOnW1b8ME"
      },
      "source": [
        "# **Customer Churn Prediction**"
      ]
    },
    {
      "cell_type": "markdown",
      "metadata": {
        "id": "7RZrIxl-cIdJ"
      },
      "source": [
        "Process involved in this project:"
      ]
    },
    {
      "cell_type": "markdown",
      "metadata": {
        "id": "zgKao13dcFGh"
      },
      "source": [
        "I - Importing Dataset\n",
        "\n",
        "II- Data Cleaning\n",
        "\n",
        "III- Exploratory Data Analysis\n",
        "\n",
        "IV- Data Preprocessing\n",
        "\n",
        "V- Model Building and Evaluation"
      ]
    },
    {
      "cell_type": "markdown",
      "metadata": {
        "id": "vLLD9GN_cj0S"
      },
      "source": [
        "## **Importing libraries**"
      ]
    },
    {
      "cell_type": "code",
      "metadata": {
        "id": "rc6QaZ2YcEWp"
      },
      "source": [
        "import pandas as pd\n",
        "from matplotlib import pyplot as plt\n",
        "import numpy as np\n",
        "%matplotlib inline\n",
        "\n",
        "pd.set_option('display.max_rows', 500)\n",
        "pd.set_option('display.max_columns', 500)\n",
        "pd.set_option('display.width', 1000)"
      ],
      "execution_count": 83,
      "outputs": []
    },
    {
      "cell_type": "markdown",
      "metadata": {
        "id": "xtOBnPSpedQc"
      },
      "source": [
        "## **Importing data**"
      ]
    },
    {
      "cell_type": "code",
      "metadata": {
        "id": "_oaEPDBB8g8I",
        "colab": {
          "base_uri": "https://localhost:8080/",
          "height": 309
        },
        "outputId": "db0e666a-b63f-484e-bec1-3dae24b97a60"
      },
      "source": [
        "df = pd.read_csv(\"/content/drive/MyDrive/Almabetter/telecocustomers.csv\")\n",
        "df.sample(5)"
      ],
      "execution_count": 84,
      "outputs": [
        {
          "output_type": "execute_result",
          "data": {
            "text/html": [
              "<div>\n",
              "<style scoped>\n",
              "    .dataframe tbody tr th:only-of-type {\n",
              "        vertical-align: middle;\n",
              "    }\n",
              "\n",
              "    .dataframe tbody tr th {\n",
              "        vertical-align: top;\n",
              "    }\n",
              "\n",
              "    .dataframe thead th {\n",
              "        text-align: right;\n",
              "    }\n",
              "</style>\n",
              "<table border=\"1\" class=\"dataframe\">\n",
              "  <thead>\n",
              "    <tr style=\"text-align: right;\">\n",
              "      <th></th>\n",
              "      <th>customerID</th>\n",
              "      <th>gender</th>\n",
              "      <th>SeniorCitizen</th>\n",
              "      <th>Partner</th>\n",
              "      <th>Dependents</th>\n",
              "      <th>tenure</th>\n",
              "      <th>PhoneService</th>\n",
              "      <th>MultipleLines</th>\n",
              "      <th>InternetService</th>\n",
              "      <th>OnlineSecurity</th>\n",
              "      <th>OnlineBackup</th>\n",
              "      <th>DeviceProtection</th>\n",
              "      <th>TechSupport</th>\n",
              "      <th>StreamingTV</th>\n",
              "      <th>StreamingMovies</th>\n",
              "      <th>Contract</th>\n",
              "      <th>PaperlessBilling</th>\n",
              "      <th>PaymentMethod</th>\n",
              "      <th>MonthlyCharges</th>\n",
              "      <th>TotalCharges</th>\n",
              "      <th>Churn</th>\n",
              "    </tr>\n",
              "  </thead>\n",
              "  <tbody>\n",
              "    <tr>\n",
              "      <th>6810</th>\n",
              "      <td>7758-XKCBS</td>\n",
              "      <td>Male</td>\n",
              "      <td>0</td>\n",
              "      <td>No</td>\n",
              "      <td>No</td>\n",
              "      <td>15</td>\n",
              "      <td>No</td>\n",
              "      <td>No phone service</td>\n",
              "      <td>DSL</td>\n",
              "      <td>No</td>\n",
              "      <td>No</td>\n",
              "      <td>No</td>\n",
              "      <td>Yes</td>\n",
              "      <td>No</td>\n",
              "      <td>No</td>\n",
              "      <td>Month-to-month</td>\n",
              "      <td>Yes</td>\n",
              "      <td>Electronic check</td>\n",
              "      <td>29.7</td>\n",
              "      <td>438.25</td>\n",
              "      <td>Yes</td>\n",
              "    </tr>\n",
              "    <tr>\n",
              "      <th>5322</th>\n",
              "      <td>8731-WBBMB</td>\n",
              "      <td>Female</td>\n",
              "      <td>0</td>\n",
              "      <td>Yes</td>\n",
              "      <td>No</td>\n",
              "      <td>26</td>\n",
              "      <td>Yes</td>\n",
              "      <td>No</td>\n",
              "      <td>DSL</td>\n",
              "      <td>No</td>\n",
              "      <td>Yes</td>\n",
              "      <td>Yes</td>\n",
              "      <td>Yes</td>\n",
              "      <td>Yes</td>\n",
              "      <td>Yes</td>\n",
              "      <td>Month-to-month</td>\n",
              "      <td>No</td>\n",
              "      <td>Bank transfer (automatic)</td>\n",
              "      <td>81.9</td>\n",
              "      <td>2078.55</td>\n",
              "      <td>No</td>\n",
              "    </tr>\n",
              "    <tr>\n",
              "      <th>1711</th>\n",
              "      <td>9964-WBQDJ</td>\n",
              "      <td>Female</td>\n",
              "      <td>0</td>\n",
              "      <td>Yes</td>\n",
              "      <td>No</td>\n",
              "      <td>71</td>\n",
              "      <td>Yes</td>\n",
              "      <td>Yes</td>\n",
              "      <td>No</td>\n",
              "      <td>No internet service</td>\n",
              "      <td>No internet service</td>\n",
              "      <td>No internet service</td>\n",
              "      <td>No internet service</td>\n",
              "      <td>No internet service</td>\n",
              "      <td>No internet service</td>\n",
              "      <td>Two year</td>\n",
              "      <td>Yes</td>\n",
              "      <td>Credit card (automatic)</td>\n",
              "      <td>24.4</td>\n",
              "      <td>1725.4</td>\n",
              "      <td>No</td>\n",
              "    </tr>\n",
              "    <tr>\n",
              "      <th>5931</th>\n",
              "      <td>0011-IGKFF</td>\n",
              "      <td>Male</td>\n",
              "      <td>1</td>\n",
              "      <td>Yes</td>\n",
              "      <td>No</td>\n",
              "      <td>13</td>\n",
              "      <td>Yes</td>\n",
              "      <td>No</td>\n",
              "      <td>Fiber optic</td>\n",
              "      <td>No</td>\n",
              "      <td>Yes</td>\n",
              "      <td>Yes</td>\n",
              "      <td>No</td>\n",
              "      <td>Yes</td>\n",
              "      <td>Yes</td>\n",
              "      <td>Month-to-month</td>\n",
              "      <td>Yes</td>\n",
              "      <td>Electronic check</td>\n",
              "      <td>98.0</td>\n",
              "      <td>1237.85</td>\n",
              "      <td>Yes</td>\n",
              "    </tr>\n",
              "    <tr>\n",
              "      <th>2912</th>\n",
              "      <td>0674-DGMAQ</td>\n",
              "      <td>Male</td>\n",
              "      <td>1</td>\n",
              "      <td>Yes</td>\n",
              "      <td>No</td>\n",
              "      <td>32</td>\n",
              "      <td>Yes</td>\n",
              "      <td>Yes</td>\n",
              "      <td>Fiber optic</td>\n",
              "      <td>No</td>\n",
              "      <td>Yes</td>\n",
              "      <td>Yes</td>\n",
              "      <td>No</td>\n",
              "      <td>No</td>\n",
              "      <td>Yes</td>\n",
              "      <td>Month-to-month</td>\n",
              "      <td>Yes</td>\n",
              "      <td>Electronic check</td>\n",
              "      <td>93.5</td>\n",
              "      <td>2970.8</td>\n",
              "      <td>No</td>\n",
              "    </tr>\n",
              "  </tbody>\n",
              "</table>\n",
              "</div>"
            ],
            "text/plain": [
              "      customerID  gender  SeniorCitizen Partner Dependents  tenure PhoneService     MultipleLines InternetService       OnlineSecurity         OnlineBackup     DeviceProtection          TechSupport          StreamingTV      StreamingMovies        Contract PaperlessBilling              PaymentMethod  MonthlyCharges TotalCharges Churn\n",
              "6810  7758-XKCBS    Male              0      No         No      15           No  No phone service             DSL                   No                   No                   No                  Yes                   No                   No  Month-to-month              Yes           Electronic check            29.7       438.25   Yes\n",
              "5322  8731-WBBMB  Female              0     Yes         No      26          Yes                No             DSL                   No                  Yes                  Yes                  Yes                  Yes                  Yes  Month-to-month               No  Bank transfer (automatic)            81.9      2078.55    No\n",
              "1711  9964-WBQDJ  Female              0     Yes         No      71          Yes               Yes              No  No internet service  No internet service  No internet service  No internet service  No internet service  No internet service        Two year              Yes    Credit card (automatic)            24.4       1725.4    No\n",
              "5931  0011-IGKFF    Male              1     Yes         No      13          Yes                No     Fiber optic                   No                  Yes                  Yes                   No                  Yes                  Yes  Month-to-month              Yes           Electronic check            98.0      1237.85   Yes\n",
              "2912  0674-DGMAQ    Male              1     Yes         No      32          Yes               Yes     Fiber optic                   No                  Yes                  Yes                   No                   No                  Yes  Month-to-month              Yes           Electronic check            93.5       2970.8    No"
            ]
          },
          "metadata": {},
          "execution_count": 84
        }
      ]
    },
    {
      "cell_type": "markdown",
      "metadata": {
        "id": "NVz-sG0U37TY"
      },
      "source": [
        "## **Data cleaning**"
      ]
    },
    {
      "cell_type": "code",
      "metadata": {
        "colab": {
          "base_uri": "https://localhost:8080/"
        },
        "id": "L5WdoU9BbP1m",
        "outputId": "d021460a-ee2e-4234-9c83-f701b30caaa1"
      },
      "source": [
        "df.shape"
      ],
      "execution_count": 85,
      "outputs": [
        {
          "output_type": "execute_result",
          "data": {
            "text/plain": [
              "(7043, 21)"
            ]
          },
          "metadata": {},
          "execution_count": 85
        }
      ]
    },
    {
      "cell_type": "code",
      "metadata": {
        "colab": {
          "base_uri": "https://localhost:8080/"
        },
        "id": "hnofB1MwfMfL",
        "outputId": "b9f07148-216d-42cd-bf92-f5162b674045"
      },
      "source": [
        "df.dtypes"
      ],
      "execution_count": 86,
      "outputs": [
        {
          "output_type": "execute_result",
          "data": {
            "text/plain": [
              "customerID           object\n",
              "gender               object\n",
              "SeniorCitizen         int64\n",
              "Partner              object\n",
              "Dependents           object\n",
              "tenure                int64\n",
              "PhoneService         object\n",
              "MultipleLines        object\n",
              "InternetService      object\n",
              "OnlineSecurity       object\n",
              "OnlineBackup         object\n",
              "DeviceProtection     object\n",
              "TechSupport          object\n",
              "StreamingTV          object\n",
              "StreamingMovies      object\n",
              "Contract             object\n",
              "PaperlessBilling     object\n",
              "PaymentMethod        object\n",
              "MonthlyCharges      float64\n",
              "TotalCharges         object\n",
              "Churn                object\n",
              "dtype: object"
            ]
          },
          "metadata": {},
          "execution_count": 86
        }
      ]
    },
    {
      "cell_type": "code",
      "metadata": {
        "colab": {
          "base_uri": "https://localhost:8080/"
        },
        "id": "xtewEIWjfMil",
        "outputId": "39d3135c-1efe-41d9-a889-c713ee854c15"
      },
      "source": [
        "df.TotalCharges.values"
      ],
      "execution_count": 87,
      "outputs": [
        {
          "output_type": "execute_result",
          "data": {
            "text/plain": [
              "array(['29.85', '1889.5', '108.15', ..., '346.45', '306.6', '6844.5'],\n",
              "      dtype=object)"
            ]
          },
          "metadata": {},
          "execution_count": 87
        }
      ]
    },
    {
      "cell_type": "markdown",
      "metadata": {
        "id": "_jZCkQczq7Ti"
      },
      "source": [
        "The TotalCharges proved to be string data type. Now we will convert it to numeric data type."
      ]
    },
    {
      "cell_type": "code",
      "metadata": {
        "id": "NEXObj295w0V"
      },
      "source": [
        "df['TotalCharges']=pd.to_numeric(df.TotalCharges.values,errors='coerce')"
      ],
      "execution_count": 88,
      "outputs": []
    },
    {
      "cell_type": "code",
      "metadata": {
        "colab": {
          "base_uri": "https://localhost:8080/"
        },
        "id": "KfKQip6g2GW1",
        "outputId": "333bbd62-0025-4217-e734-eb2b4608236f"
      },
      "source": [
        "df.dtypes"
      ],
      "execution_count": 89,
      "outputs": [
        {
          "output_type": "execute_result",
          "data": {
            "text/plain": [
              "customerID           object\n",
              "gender               object\n",
              "SeniorCitizen         int64\n",
              "Partner              object\n",
              "Dependents           object\n",
              "tenure                int64\n",
              "PhoneService         object\n",
              "MultipleLines        object\n",
              "InternetService      object\n",
              "OnlineSecurity       object\n",
              "OnlineBackup         object\n",
              "DeviceProtection     object\n",
              "TechSupport          object\n",
              "StreamingTV          object\n",
              "StreamingMovies      object\n",
              "Contract             object\n",
              "PaperlessBilling     object\n",
              "PaymentMethod        object\n",
              "MonthlyCharges      float64\n",
              "TotalCharges        float64\n",
              "Churn                object\n",
              "dtype: object"
            ]
          },
          "metadata": {},
          "execution_count": 89
        }
      ]
    },
    {
      "cell_type": "markdown",
      "metadata": {
        "id": "r2wjlHy9rzEB"
      },
      "source": [
        "Lets have a look at the null values in the dataset we have after converting the TotalCharges column from string to numeric data type."
      ]
    },
    {
      "cell_type": "code",
      "metadata": {
        "colab": {
          "base_uri": "https://localhost:8080/"
        },
        "id": "YqGJUOEf5v3-",
        "outputId": "2929ea9f-6485-4be0-d8d0-1b39f77d404d"
      },
      "source": [
        "df[pd.to_numeric(df.TotalCharges,errors='coerce').isnull()].shape"
      ],
      "execution_count": 90,
      "outputs": [
        {
          "output_type": "execute_result",
          "data": {
            "text/plain": [
              "(11, 21)"
            ]
          },
          "metadata": {},
          "execution_count": 90
        }
      ]
    },
    {
      "cell_type": "code",
      "metadata": {
        "colab": {
          "base_uri": "https://localhost:8080/"
        },
        "id": "Xi2l5-_psDJ7",
        "outputId": "1baed284-3e15-46bd-ffba-42e9b6599f92"
      },
      "source": [
        "# Dropping the rows having TotalCharges null values.\n",
        "df = df[df.TotalCharges!=' ']\n",
        "df.shape"
      ],
      "execution_count": 91,
      "outputs": [
        {
          "output_type": "execute_result",
          "data": {
            "text/plain": [
              "(7043, 21)"
            ]
          },
          "metadata": {},
          "execution_count": 91
        }
      ]
    },
    {
      "cell_type": "code",
      "metadata": {
        "id": "BSuFMzaUsDM8"
      },
      "source": [
        "# Removing the CustomerID column.\n",
        "df.drop('customerID',axis=1,inplace=True)"
      ],
      "execution_count": 92,
      "outputs": []
    },
    {
      "cell_type": "code",
      "metadata": {
        "colab": {
          "base_uri": "https://localhost:8080/",
          "height": 292
        },
        "id": "HsFMKCbSbP5b",
        "outputId": "5e40f720-8c50-48c4-eab9-d08db234534a"
      },
      "source": [
        "df.head()"
      ],
      "execution_count": 93,
      "outputs": [
        {
          "output_type": "execute_result",
          "data": {
            "text/html": [
              "<div>\n",
              "<style scoped>\n",
              "    .dataframe tbody tr th:only-of-type {\n",
              "        vertical-align: middle;\n",
              "    }\n",
              "\n",
              "    .dataframe tbody tr th {\n",
              "        vertical-align: top;\n",
              "    }\n",
              "\n",
              "    .dataframe thead th {\n",
              "        text-align: right;\n",
              "    }\n",
              "</style>\n",
              "<table border=\"1\" class=\"dataframe\">\n",
              "  <thead>\n",
              "    <tr style=\"text-align: right;\">\n",
              "      <th></th>\n",
              "      <th>gender</th>\n",
              "      <th>SeniorCitizen</th>\n",
              "      <th>Partner</th>\n",
              "      <th>Dependents</th>\n",
              "      <th>tenure</th>\n",
              "      <th>PhoneService</th>\n",
              "      <th>MultipleLines</th>\n",
              "      <th>InternetService</th>\n",
              "      <th>OnlineSecurity</th>\n",
              "      <th>OnlineBackup</th>\n",
              "      <th>DeviceProtection</th>\n",
              "      <th>TechSupport</th>\n",
              "      <th>StreamingTV</th>\n",
              "      <th>StreamingMovies</th>\n",
              "      <th>Contract</th>\n",
              "      <th>PaperlessBilling</th>\n",
              "      <th>PaymentMethod</th>\n",
              "      <th>MonthlyCharges</th>\n",
              "      <th>TotalCharges</th>\n",
              "      <th>Churn</th>\n",
              "    </tr>\n",
              "  </thead>\n",
              "  <tbody>\n",
              "    <tr>\n",
              "      <th>0</th>\n",
              "      <td>Female</td>\n",
              "      <td>0</td>\n",
              "      <td>Yes</td>\n",
              "      <td>No</td>\n",
              "      <td>1</td>\n",
              "      <td>No</td>\n",
              "      <td>No phone service</td>\n",
              "      <td>DSL</td>\n",
              "      <td>No</td>\n",
              "      <td>Yes</td>\n",
              "      <td>No</td>\n",
              "      <td>No</td>\n",
              "      <td>No</td>\n",
              "      <td>No</td>\n",
              "      <td>Month-to-month</td>\n",
              "      <td>Yes</td>\n",
              "      <td>Electronic check</td>\n",
              "      <td>29.85</td>\n",
              "      <td>29.85</td>\n",
              "      <td>No</td>\n",
              "    </tr>\n",
              "    <tr>\n",
              "      <th>1</th>\n",
              "      <td>Male</td>\n",
              "      <td>0</td>\n",
              "      <td>No</td>\n",
              "      <td>No</td>\n",
              "      <td>34</td>\n",
              "      <td>Yes</td>\n",
              "      <td>No</td>\n",
              "      <td>DSL</td>\n",
              "      <td>Yes</td>\n",
              "      <td>No</td>\n",
              "      <td>Yes</td>\n",
              "      <td>No</td>\n",
              "      <td>No</td>\n",
              "      <td>No</td>\n",
              "      <td>One year</td>\n",
              "      <td>No</td>\n",
              "      <td>Mailed check</td>\n",
              "      <td>56.95</td>\n",
              "      <td>1889.50</td>\n",
              "      <td>No</td>\n",
              "    </tr>\n",
              "    <tr>\n",
              "      <th>2</th>\n",
              "      <td>Male</td>\n",
              "      <td>0</td>\n",
              "      <td>No</td>\n",
              "      <td>No</td>\n",
              "      <td>2</td>\n",
              "      <td>Yes</td>\n",
              "      <td>No</td>\n",
              "      <td>DSL</td>\n",
              "      <td>Yes</td>\n",
              "      <td>Yes</td>\n",
              "      <td>No</td>\n",
              "      <td>No</td>\n",
              "      <td>No</td>\n",
              "      <td>No</td>\n",
              "      <td>Month-to-month</td>\n",
              "      <td>Yes</td>\n",
              "      <td>Mailed check</td>\n",
              "      <td>53.85</td>\n",
              "      <td>108.15</td>\n",
              "      <td>Yes</td>\n",
              "    </tr>\n",
              "    <tr>\n",
              "      <th>3</th>\n",
              "      <td>Male</td>\n",
              "      <td>0</td>\n",
              "      <td>No</td>\n",
              "      <td>No</td>\n",
              "      <td>45</td>\n",
              "      <td>No</td>\n",
              "      <td>No phone service</td>\n",
              "      <td>DSL</td>\n",
              "      <td>Yes</td>\n",
              "      <td>No</td>\n",
              "      <td>Yes</td>\n",
              "      <td>Yes</td>\n",
              "      <td>No</td>\n",
              "      <td>No</td>\n",
              "      <td>One year</td>\n",
              "      <td>No</td>\n",
              "      <td>Bank transfer (automatic)</td>\n",
              "      <td>42.30</td>\n",
              "      <td>1840.75</td>\n",
              "      <td>No</td>\n",
              "    </tr>\n",
              "    <tr>\n",
              "      <th>4</th>\n",
              "      <td>Female</td>\n",
              "      <td>0</td>\n",
              "      <td>No</td>\n",
              "      <td>No</td>\n",
              "      <td>2</td>\n",
              "      <td>Yes</td>\n",
              "      <td>No</td>\n",
              "      <td>Fiber optic</td>\n",
              "      <td>No</td>\n",
              "      <td>No</td>\n",
              "      <td>No</td>\n",
              "      <td>No</td>\n",
              "      <td>No</td>\n",
              "      <td>No</td>\n",
              "      <td>Month-to-month</td>\n",
              "      <td>Yes</td>\n",
              "      <td>Electronic check</td>\n",
              "      <td>70.70</td>\n",
              "      <td>151.65</td>\n",
              "      <td>Yes</td>\n",
              "    </tr>\n",
              "  </tbody>\n",
              "</table>\n",
              "</div>"
            ],
            "text/plain": [
              "   gender  SeniorCitizen Partner Dependents  tenure PhoneService     MultipleLines InternetService OnlineSecurity OnlineBackup DeviceProtection TechSupport StreamingTV StreamingMovies        Contract PaperlessBilling              PaymentMethod  MonthlyCharges  TotalCharges Churn\n",
              "0  Female              0     Yes         No       1           No  No phone service             DSL             No          Yes               No          No          No              No  Month-to-month              Yes           Electronic check           29.85         29.85    No\n",
              "1    Male              0      No         No      34          Yes                No             DSL            Yes           No              Yes          No          No              No        One year               No               Mailed check           56.95       1889.50    No\n",
              "2    Male              0      No         No       2          Yes                No             DSL            Yes          Yes               No          No          No              No  Month-to-month              Yes               Mailed check           53.85        108.15   Yes\n",
              "3    Male              0      No         No      45           No  No phone service             DSL            Yes           No              Yes         Yes          No              No        One year               No  Bank transfer (automatic)           42.30       1840.75    No\n",
              "4  Female              0      No         No       2          Yes                No     Fiber optic             No           No               No          No          No              No  Month-to-month              Yes           Electronic check           70.70        151.65   Yes"
            ]
          },
          "metadata": {},
          "execution_count": 93
        }
      ]
    },
    {
      "cell_type": "code",
      "metadata": {
        "id": "l49izh0cbP7Q"
      },
      "source": [
        "# Creating function to look at the unique values of each column.\n",
        "def unique_values(dataframe):\n",
        "  for column in dataframe:\n",
        "    if dataframe[column].dtype=='object':\n",
        "      print(f'{column}: {dataframe[column].unique()}')"
      ],
      "execution_count": 94,
      "outputs": []
    },
    {
      "cell_type": "code",
      "metadata": {
        "colab": {
          "base_uri": "https://localhost:8080/"
        },
        "id": "97kqG8jUtXTY",
        "outputId": "4fcf595a-be6a-4ef6-888f-cac1eae5e31a"
      },
      "source": [
        "unique_values(df)"
      ],
      "execution_count": 95,
      "outputs": [
        {
          "output_type": "stream",
          "text": [
            "gender: ['Female' 'Male']\n",
            "Partner: ['Yes' 'No']\n",
            "Dependents: ['No' 'Yes']\n",
            "PhoneService: ['No' 'Yes']\n",
            "MultipleLines: ['No phone service' 'No' 'Yes']\n",
            "InternetService: ['DSL' 'Fiber optic' 'No']\n",
            "OnlineSecurity: ['No' 'Yes' 'No internet service']\n",
            "OnlineBackup: ['Yes' 'No' 'No internet service']\n",
            "DeviceProtection: ['No' 'Yes' 'No internet service']\n",
            "TechSupport: ['No' 'Yes' 'No internet service']\n",
            "StreamingTV: ['No' 'Yes' 'No internet service']\n",
            "StreamingMovies: ['No' 'Yes' 'No internet service']\n",
            "Contract: ['Month-to-month' 'One year' 'Two year']\n",
            "PaperlessBilling: ['Yes' 'No']\n",
            "PaymentMethod: ['Electronic check' 'Mailed check' 'Bank transfer (automatic)'\n",
            " 'Credit card (automatic)']\n",
            "Churn: ['No' 'Yes']\n"
          ],
          "name": "stdout"
        }
      ]
    },
    {
      "cell_type": "markdown",
      "metadata": {
        "id": "RMzweasaDr0q"
      },
      "source": [
        "We can see that some of the columns have no internet service or no phone service, that can be replaced with a simple No."
      ]
    },
    {
      "cell_type": "code",
      "metadata": {
        "id": "9im8ACaFtXWn"
      },
      "source": [
        "df.replace('No phone service','No',inplace=True)\n",
        "df.replace('No internet service','No',inplace=True)"
      ],
      "execution_count": 96,
      "outputs": []
    },
    {
      "cell_type": "code",
      "metadata": {
        "colab": {
          "base_uri": "https://localhost:8080/"
        },
        "id": "QW-c09WC10WG",
        "outputId": "401ad6d4-c1ee-49bc-fbc9-398b2432fd4e"
      },
      "source": [
        "unique_values(df)"
      ],
      "execution_count": 97,
      "outputs": [
        {
          "output_type": "stream",
          "text": [
            "gender: ['Female' 'Male']\n",
            "Partner: ['Yes' 'No']\n",
            "Dependents: ['No' 'Yes']\n",
            "PhoneService: ['No' 'Yes']\n",
            "MultipleLines: ['No' 'Yes']\n",
            "InternetService: ['DSL' 'Fiber optic' 'No']\n",
            "OnlineSecurity: ['No' 'Yes']\n",
            "OnlineBackup: ['Yes' 'No']\n",
            "DeviceProtection: ['No' 'Yes']\n",
            "TechSupport: ['No' 'Yes']\n",
            "StreamingTV: ['No' 'Yes']\n",
            "StreamingMovies: ['No' 'Yes']\n",
            "Contract: ['Month-to-month' 'One year' 'Two year']\n",
            "PaperlessBilling: ['Yes' 'No']\n",
            "PaymentMethod: ['Electronic check' 'Mailed check' 'Bank transfer (automatic)'\n",
            " 'Credit card (automatic)']\n",
            "Churn: ['No' 'Yes']\n"
          ],
          "name": "stdout"
        }
      ]
    },
    {
      "cell_type": "code",
      "metadata": {
        "id": "_viA1sEf10Y9"
      },
      "source": [
        "# Converting Yes to 1 and No to 0.\n",
        "df.replace('Yes',1,inplace=True)\n",
        "df.replace('No',0,inplace=True)"
      ],
      "execution_count": 98,
      "outputs": []
    },
    {
      "cell_type": "code",
      "metadata": {
        "colab": {
          "base_uri": "https://localhost:8080/"
        },
        "id": "kWBRGaTAtXZO",
        "outputId": "0cfcc87c-9d83-4e39-f030-a05fc48fd083"
      },
      "source": [
        "unique_values(df)"
      ],
      "execution_count": 99,
      "outputs": [
        {
          "output_type": "stream",
          "text": [
            "gender: ['Female' 'Male']\n",
            "InternetService: ['DSL' 'Fiber optic' 0]\n",
            "Contract: ['Month-to-month' 'One year' 'Two year']\n",
            "PaymentMethod: ['Electronic check' 'Mailed check' 'Bank transfer (automatic)'\n",
            " 'Credit card (automatic)']\n"
          ],
          "name": "stdout"
        }
      ]
    },
    {
      "cell_type": "code",
      "metadata": {
        "colab": {
          "base_uri": "https://localhost:8080/"
        },
        "id": "hF_dWxYwtXcq",
        "outputId": "dabd3d92-3ded-42ee-8d39-8660d48f66bc"
      },
      "source": [
        "df['InternetService'].value_counts()"
      ],
      "execution_count": 100,
      "outputs": [
        {
          "output_type": "execute_result",
          "data": {
            "text/plain": [
              "Fiber optic    3096\n",
              "DSL            2421\n",
              "0              1526\n",
              "Name: InternetService, dtype: int64"
            ]
          },
          "metadata": {},
          "execution_count": 100
        }
      ]
    },
    {
      "cell_type": "code",
      "metadata": {
        "id": "hfCmlbNVJ_J-"
      },
      "source": [
        "# converting genders: Male to 0 and Female to 1.\n",
        "df['gender'].replace({'Male':0,'Female':1},inplace=True)"
      ],
      "execution_count": 101,
      "outputs": []
    },
    {
      "cell_type": "code",
      "metadata": {
        "colab": {
          "base_uri": "https://localhost:8080/"
        },
        "id": "xD6Qr7jZJ_Ns",
        "outputId": "1942a91a-65f2-4679-d23e-b59e39787600"
      },
      "source": [
        "df['gender'].value_counts()"
      ],
      "execution_count": 102,
      "outputs": [
        {
          "output_type": "execute_result",
          "data": {
            "text/plain": [
              "0    3555\n",
              "1    3488\n",
              "Name: gender, dtype: int64"
            ]
          },
          "metadata": {},
          "execution_count": 102
        }
      ]
    },
    {
      "cell_type": "code",
      "metadata": {
        "colab": {
          "base_uri": "https://localhost:8080/",
          "height": 292
        },
        "id": "9wLl9hKTJ_PW",
        "outputId": "d8b1d56d-d565-4477-867a-142b3526cd03"
      },
      "source": [
        "df.head()"
      ],
      "execution_count": 103,
      "outputs": [
        {
          "output_type": "execute_result",
          "data": {
            "text/html": [
              "<div>\n",
              "<style scoped>\n",
              "    .dataframe tbody tr th:only-of-type {\n",
              "        vertical-align: middle;\n",
              "    }\n",
              "\n",
              "    .dataframe tbody tr th {\n",
              "        vertical-align: top;\n",
              "    }\n",
              "\n",
              "    .dataframe thead th {\n",
              "        text-align: right;\n",
              "    }\n",
              "</style>\n",
              "<table border=\"1\" class=\"dataframe\">\n",
              "  <thead>\n",
              "    <tr style=\"text-align: right;\">\n",
              "      <th></th>\n",
              "      <th>gender</th>\n",
              "      <th>SeniorCitizen</th>\n",
              "      <th>Partner</th>\n",
              "      <th>Dependents</th>\n",
              "      <th>tenure</th>\n",
              "      <th>PhoneService</th>\n",
              "      <th>MultipleLines</th>\n",
              "      <th>InternetService</th>\n",
              "      <th>OnlineSecurity</th>\n",
              "      <th>OnlineBackup</th>\n",
              "      <th>DeviceProtection</th>\n",
              "      <th>TechSupport</th>\n",
              "      <th>StreamingTV</th>\n",
              "      <th>StreamingMovies</th>\n",
              "      <th>Contract</th>\n",
              "      <th>PaperlessBilling</th>\n",
              "      <th>PaymentMethod</th>\n",
              "      <th>MonthlyCharges</th>\n",
              "      <th>TotalCharges</th>\n",
              "      <th>Churn</th>\n",
              "    </tr>\n",
              "  </thead>\n",
              "  <tbody>\n",
              "    <tr>\n",
              "      <th>0</th>\n",
              "      <td>1</td>\n",
              "      <td>0</td>\n",
              "      <td>1</td>\n",
              "      <td>0</td>\n",
              "      <td>1</td>\n",
              "      <td>0</td>\n",
              "      <td>0</td>\n",
              "      <td>DSL</td>\n",
              "      <td>0</td>\n",
              "      <td>1</td>\n",
              "      <td>0</td>\n",
              "      <td>0</td>\n",
              "      <td>0</td>\n",
              "      <td>0</td>\n",
              "      <td>Month-to-month</td>\n",
              "      <td>1</td>\n",
              "      <td>Electronic check</td>\n",
              "      <td>29.85</td>\n",
              "      <td>29.85</td>\n",
              "      <td>0</td>\n",
              "    </tr>\n",
              "    <tr>\n",
              "      <th>1</th>\n",
              "      <td>0</td>\n",
              "      <td>0</td>\n",
              "      <td>0</td>\n",
              "      <td>0</td>\n",
              "      <td>34</td>\n",
              "      <td>1</td>\n",
              "      <td>0</td>\n",
              "      <td>DSL</td>\n",
              "      <td>1</td>\n",
              "      <td>0</td>\n",
              "      <td>1</td>\n",
              "      <td>0</td>\n",
              "      <td>0</td>\n",
              "      <td>0</td>\n",
              "      <td>One year</td>\n",
              "      <td>0</td>\n",
              "      <td>Mailed check</td>\n",
              "      <td>56.95</td>\n",
              "      <td>1889.50</td>\n",
              "      <td>0</td>\n",
              "    </tr>\n",
              "    <tr>\n",
              "      <th>2</th>\n",
              "      <td>0</td>\n",
              "      <td>0</td>\n",
              "      <td>0</td>\n",
              "      <td>0</td>\n",
              "      <td>2</td>\n",
              "      <td>1</td>\n",
              "      <td>0</td>\n",
              "      <td>DSL</td>\n",
              "      <td>1</td>\n",
              "      <td>1</td>\n",
              "      <td>0</td>\n",
              "      <td>0</td>\n",
              "      <td>0</td>\n",
              "      <td>0</td>\n",
              "      <td>Month-to-month</td>\n",
              "      <td>1</td>\n",
              "      <td>Mailed check</td>\n",
              "      <td>53.85</td>\n",
              "      <td>108.15</td>\n",
              "      <td>1</td>\n",
              "    </tr>\n",
              "    <tr>\n",
              "      <th>3</th>\n",
              "      <td>0</td>\n",
              "      <td>0</td>\n",
              "      <td>0</td>\n",
              "      <td>0</td>\n",
              "      <td>45</td>\n",
              "      <td>0</td>\n",
              "      <td>0</td>\n",
              "      <td>DSL</td>\n",
              "      <td>1</td>\n",
              "      <td>0</td>\n",
              "      <td>1</td>\n",
              "      <td>1</td>\n",
              "      <td>0</td>\n",
              "      <td>0</td>\n",
              "      <td>One year</td>\n",
              "      <td>0</td>\n",
              "      <td>Bank transfer (automatic)</td>\n",
              "      <td>42.30</td>\n",
              "      <td>1840.75</td>\n",
              "      <td>0</td>\n",
              "    </tr>\n",
              "    <tr>\n",
              "      <th>4</th>\n",
              "      <td>1</td>\n",
              "      <td>0</td>\n",
              "      <td>0</td>\n",
              "      <td>0</td>\n",
              "      <td>2</td>\n",
              "      <td>1</td>\n",
              "      <td>0</td>\n",
              "      <td>Fiber optic</td>\n",
              "      <td>0</td>\n",
              "      <td>0</td>\n",
              "      <td>0</td>\n",
              "      <td>0</td>\n",
              "      <td>0</td>\n",
              "      <td>0</td>\n",
              "      <td>Month-to-month</td>\n",
              "      <td>1</td>\n",
              "      <td>Electronic check</td>\n",
              "      <td>70.70</td>\n",
              "      <td>151.65</td>\n",
              "      <td>1</td>\n",
              "    </tr>\n",
              "  </tbody>\n",
              "</table>\n",
              "</div>"
            ],
            "text/plain": [
              "   gender  SeniorCitizen  Partner  Dependents  tenure  PhoneService  MultipleLines InternetService  OnlineSecurity  OnlineBackup  DeviceProtection  TechSupport  StreamingTV  StreamingMovies        Contract  PaperlessBilling              PaymentMethod  MonthlyCharges  TotalCharges  Churn\n",
              "0       1              0        1           0       1             0              0             DSL               0             1                 0            0            0                0  Month-to-month                 1           Electronic check           29.85         29.85      0\n",
              "1       0              0        0           0      34             1              0             DSL               1             0                 1            0            0                0        One year                 0               Mailed check           56.95       1889.50      0\n",
              "2       0              0        0           0       2             1              0             DSL               1             1                 0            0            0                0  Month-to-month                 1               Mailed check           53.85        108.15      1\n",
              "3       0              0        0           0      45             0              0             DSL               1             0                 1            1            0                0        One year                 0  Bank transfer (automatic)           42.30       1840.75      0\n",
              "4       1              0        0           0       2             1              0     Fiber optic               0             0                 0            0            0                0  Month-to-month                 1           Electronic check           70.70        151.65      1"
            ]
          },
          "metadata": {},
          "execution_count": 103
        }
      ]
    },
    {
      "cell_type": "code",
      "metadata": {
        "id": "lBobibIjJ_l2"
      },
      "source": [
        "#df = pd.get_dummies(data=df, columns=['InternetService','Contract','PaymentMethod'])"
      ],
      "execution_count": 104,
      "outputs": []
    },
    {
      "cell_type": "markdown",
      "metadata": {
        "id": "VJw2tKu63Ngj"
      },
      "source": [
        "## **Exploratory data analysis**"
      ]
    },
    {
      "cell_type": "code",
      "metadata": {
        "id": "q4FJoC6LNmaA",
        "colab": {
          "base_uri": "https://localhost:8080/",
          "height": 279
        },
        "outputId": "ee9cd061-9904-4634-badd-953325c09cb8"
      },
      "source": [
        "df['Churn'].value_counts().plot.bar()"
      ],
      "execution_count": 105,
      "outputs": [
        {
          "output_type": "execute_result",
          "data": {
            "text/plain": [
              "<matplotlib.axes._subplots.AxesSubplot at 0x7f2b63d12590>"
            ]
          },
          "metadata": {},
          "execution_count": 105
        },
        {
          "output_type": "display_data",
          "data": {
            "image/png": "[encoded data removed]",
            "text/plain": [
              "<Figure size 432x288 with 1 Axes>"
            ]
          },
          "metadata": {
            "needs_background": "light"
          }
        }
      ]
    },
    {
      "cell_type": "code",
      "metadata": {
        "colab": {
          "base_uri": "https://localhost:8080/",
          "height": 366
        },
        "id": "ufRjKzh_D-XI",
        "outputId": "c94fe560-3e3e-4563-bb99-cb9b112c6a18"
      },
      "source": [
        "# Plotting the side by side histogram for Customer Leaving and Not Leaving w.r.t their Tenure.\n",
        "tenure_churn_no = df[df.Churn==0].tenure\n",
        "tenure_churn_yes = df[df.Churn==1].tenure\n",
        "plt.hist([tenure_churn_yes,tenure_churn_no],rwidth=0.95,Label=['Churn=Yes','Churn=No'])\n",
        "plt.xlabel(\"Tenure (Months)\")\n",
        "plt.ylabel(\"Number Of Customers\")\n",
        "plt.title(\"Customer Churn Prediction Visualiztion\")\n",
        "plt.legend()"
      ],
      "execution_count": 106,
      "outputs": [
        {
          "output_type": "stream",
          "text": [
            "/usr/local/lib/python3.7/dist-packages/numpy/core/_asarray.py:83: VisibleDeprecationWarning: Creating an ndarray from ragged nested sequences (which is a list-or-tuple of lists-or-tuples-or ndarrays with different lengths or shapes) is deprecated. If you meant to do this, you must specify 'dtype=object' when creating the ndarray\n",
            "  return array(a, dtype, copy=False, order=order)\n"
          ],
          "name": "stderr"
        },
        {
          "output_type": "execute_result",
          "data": {
            "text/plain": [
              "<matplotlib.legend.Legend at 0x7f2b63d29e50>"
            ]
          },
          "metadata": {},
          "execution_count": 106
        },
        {
          "output_type": "display_data",
          "data": {
            "image/png": "[encoded data removed]",
            "text/plain": [
              "<Figure size 432x288 with 1 Axes>"
            ]
          },
          "metadata": {
            "needs_background": "light"
          }
        }
      ]
    },
    {
      "cell_type": "code",
      "metadata": {
        "id": "fWnrTffAUKYf"
      },
      "source": [
        "import seaborn as sns"
      ],
      "execution_count": 107,
      "outputs": []
    },
    {
      "cell_type": "code",
      "metadata": {
        "colab": {
          "base_uri": "https://localhost:8080/",
          "height": 312
        },
        "id": "i6FLvHVmOmWM",
        "outputId": "a6377777-a755-4809-d56a-cbb438586105"
      },
      "source": [
        "churn_no=df[df['Churn']=='No']\n",
        "churn_yes=df[df['Churn']=='Yes']\n",
        "mc_churn_no=churn_no['MonthlyCharges']\n",
        "mc_churn_yes=churn_yes['MonthlyCharges']\n",
        "      \n",
        "plt.xlabel(\"Monthly Charges\")\n",
        "plt.ylabel(\"Number Of Customers\")\n",
        "plt.title(\"Customer Churn Prediction Visualiztion\")\n",
        "\n",
        "plt.hist([mc_churn_yes, mc_churn_no], rwidth=0.95,label=['Churn=Yes','Churn=No'])\n",
        "plt.legend()"
      ],
      "execution_count": 108,
      "outputs": [
        {
          "output_type": "execute_result",
          "data": {
            "text/plain": [
              "<matplotlib.legend.Legend at 0x7f2b63af6890>"
            ]
          },
          "metadata": {},
          "execution_count": 108
        },
        {
          "output_type": "display_data",
          "data": {
            "image/png": "[encoded data removed]",
            "text/plain": [
              "<Figure size 432x288 with 1 Axes>"
            ]
          },
          "metadata": {
            "needs_background": "light"
          }
        }
      ]
    },
    {
      "cell_type": "code",
      "metadata": {
        "colab": {
          "base_uri": "https://localhost:8080/",
          "height": 292
        },
        "id": "HzIYAWVOZNec",
        "outputId": "c49ca7d6-6b62-4f8b-8c4a-e21bdab70e4d"
      },
      "source": [
        "df.head()"
      ],
      "execution_count": 109,
      "outputs": [
        {
          "output_type": "execute_result",
          "data": {
            "text/html": [
              "<div>\n",
              "<style scoped>\n",
              "    .dataframe tbody tr th:only-of-type {\n",
              "        vertical-align: middle;\n",
              "    }\n",
              "\n",
              "    .dataframe tbody tr th {\n",
              "        vertical-align: top;\n",
              "    }\n",
              "\n",
              "    .dataframe thead th {\n",
              "        text-align: right;\n",
              "    }\n",
              "</style>\n",
              "<table border=\"1\" class=\"dataframe\">\n",
              "  <thead>\n",
              "    <tr style=\"text-align: right;\">\n",
              "      <th></th>\n",
              "      <th>gender</th>\n",
              "      <th>SeniorCitizen</th>\n",
              "      <th>Partner</th>\n",
              "      <th>Dependents</th>\n",
              "      <th>tenure</th>\n",
              "      <th>PhoneService</th>\n",
              "      <th>MultipleLines</th>\n",
              "      <th>InternetService</th>\n",
              "      <th>OnlineSecurity</th>\n",
              "      <th>OnlineBackup</th>\n",
              "      <th>DeviceProtection</th>\n",
              "      <th>TechSupport</th>\n",
              "      <th>StreamingTV</th>\n",
              "      <th>StreamingMovies</th>\n",
              "      <th>Contract</th>\n",
              "      <th>PaperlessBilling</th>\n",
              "      <th>PaymentMethod</th>\n",
              "      <th>MonthlyCharges</th>\n",
              "      <th>TotalCharges</th>\n",
              "      <th>Churn</th>\n",
              "    </tr>\n",
              "  </thead>\n",
              "  <tbody>\n",
              "    <tr>\n",
              "      <th>0</th>\n",
              "      <td>1</td>\n",
              "      <td>0</td>\n",
              "      <td>1</td>\n",
              "      <td>0</td>\n",
              "      <td>1</td>\n",
              "      <td>0</td>\n",
              "      <td>0</td>\n",
              "      <td>DSL</td>\n",
              "      <td>0</td>\n",
              "      <td>1</td>\n",
              "      <td>0</td>\n",
              "      <td>0</td>\n",
              "      <td>0</td>\n",
              "      <td>0</td>\n",
              "      <td>Month-to-month</td>\n",
              "      <td>1</td>\n",
              "      <td>Electronic check</td>\n",
              "      <td>29.85</td>\n",
              "      <td>29.85</td>\n",
              "      <td>0</td>\n",
              "    </tr>\n",
              "    <tr>\n",
              "      <th>1</th>\n",
              "      <td>0</td>\n",
              "      <td>0</td>\n",
              "      <td>0</td>\n",
              "      <td>0</td>\n",
              "      <td>34</td>\n",
              "      <td>1</td>\n",
              "      <td>0</td>\n",
              "      <td>DSL</td>\n",
              "      <td>1</td>\n",
              "      <td>0</td>\n",
              "      <td>1</td>\n",
              "      <td>0</td>\n",
              "      <td>0</td>\n",
              "      <td>0</td>\n",
              "      <td>One year</td>\n",
              "      <td>0</td>\n",
              "      <td>Mailed check</td>\n",
              "      <td>56.95</td>\n",
              "      <td>1889.50</td>\n",
              "      <td>0</td>\n",
              "    </tr>\n",
              "    <tr>\n",
              "      <th>2</th>\n",
              "      <td>0</td>\n",
              "      <td>0</td>\n",
              "      <td>0</td>\n",
              "      <td>0</td>\n",
              "      <td>2</td>\n",
              "      <td>1</td>\n",
              "      <td>0</td>\n",
              "      <td>DSL</td>\n",
              "      <td>1</td>\n",
              "      <td>1</td>\n",
              "      <td>0</td>\n",
              "      <td>0</td>\n",
              "      <td>0</td>\n",
              "      <td>0</td>\n",
              "      <td>Month-to-month</td>\n",
              "      <td>1</td>\n",
              "      <td>Mailed check</td>\n",
              "      <td>53.85</td>\n",
              "      <td>108.15</td>\n",
              "      <td>1</td>\n",
              "    </tr>\n",
              "    <tr>\n",
              "      <th>3</th>\n",
              "      <td>0</td>\n",
              "      <td>0</td>\n",
              "      <td>0</td>\n",
              "      <td>0</td>\n",
              "      <td>45</td>\n",
              "      <td>0</td>\n",
              "      <td>0</td>\n",
              "      <td>DSL</td>\n",
              "      <td>1</td>\n",
              "      <td>0</td>\n",
              "      <td>1</td>\n",
              "      <td>1</td>\n",
              "      <td>0</td>\n",
              "      <td>0</td>\n",
              "      <td>One year</td>\n",
              "      <td>0</td>\n",
              "      <td>Bank transfer (automatic)</td>\n",
              "      <td>42.30</td>\n",
              "      <td>1840.75</td>\n",
              "      <td>0</td>\n",
              "    </tr>\n",
              "    <tr>\n",
              "      <th>4</th>\n",
              "      <td>1</td>\n",
              "      <td>0</td>\n",
              "      <td>0</td>\n",
              "      <td>0</td>\n",
              "      <td>2</td>\n",
              "      <td>1</td>\n",
              "      <td>0</td>\n",
              "      <td>Fiber optic</td>\n",
              "      <td>0</td>\n",
              "      <td>0</td>\n",
              "      <td>0</td>\n",
              "      <td>0</td>\n",
              "      <td>0</td>\n",
              "      <td>0</td>\n",
              "      <td>Month-to-month</td>\n",
              "      <td>1</td>\n",
              "      <td>Electronic check</td>\n",
              "      <td>70.70</td>\n",
              "      <td>151.65</td>\n",
              "      <td>1</td>\n",
              "    </tr>\n",
              "  </tbody>\n",
              "</table>\n",
              "</div>"
            ],
            "text/plain": [
              "   gender  SeniorCitizen  Partner  Dependents  tenure  PhoneService  MultipleLines InternetService  OnlineSecurity  OnlineBackup  DeviceProtection  TechSupport  StreamingTV  StreamingMovies        Contract  PaperlessBilling              PaymentMethod  MonthlyCharges  TotalCharges  Churn\n",
              "0       1              0        1           0       1             0              0             DSL               0             1                 0            0            0                0  Month-to-month                 1           Electronic check           29.85         29.85      0\n",
              "1       0              0        0           0      34             1              0             DSL               1             0                 1            0            0                0        One year                 0               Mailed check           56.95       1889.50      0\n",
              "2       0              0        0           0       2             1              0             DSL               1             1                 0            0            0                0  Month-to-month                 1               Mailed check           53.85        108.15      1\n",
              "3       0              0        0           0      45             0              0             DSL               1             0                 1            1            0                0        One year                 0  Bank transfer (automatic)           42.30       1840.75      0\n",
              "4       1              0        0           0       2             1              0     Fiber optic               0             0                 0            0            0                0  Month-to-month                 1           Electronic check           70.70        151.65      1"
            ]
          },
          "metadata": {},
          "execution_count": 109
        }
      ]
    },
    {
      "cell_type": "code",
      "metadata": {
        "id": "iEKmAGGJilS3",
        "colab": {
          "base_uri": "https://localhost:8080/",
          "height": 758
        },
        "outputId": "1ac2f7ea-4356-4ce7-ecfb-4777f9267409"
      },
      "source": [
        "pie_Contract_m2m = pd.DataFrame(df[df['Contract'] == \"Month-to-month\"]['Churn'].value_counts())\n",
        "pie_Contract_m2m.plot.pie(subplots=True, labels = pie_Contract_m2m.index.values, autopct='%1.1f%%', startangle= 75)\n",
        "plt.title('Month to Month Contract')\n",
        "plt.gca().set_aspect('equal')\n",
        "\n",
        "pie_Contract_1y = pd.DataFrame(df[df['Contract'] == \"One year\"]['Churn'].value_counts())\n",
        "pie_Contract_1y.plot.pie(subplots=True, labels = pie_Contract_1y.index.values, autopct='%1.1f%%', startangle= 20)\n",
        "plt.title('One Year Contract')\n",
        "plt.gca().set_aspect('equal')\n",
        "\n",
        "pie_Contract_2y = pd.DataFrame(df[df['Contract'] == \"Two year\"]['Churn'].value_counts())\n",
        "pie_Contract_2y.plot.pie(subplots=True, labels = pie_Contract_2y.index.values, autopct='%1.1f%%', startangle= 5)\n",
        "plt.title('Two Year Contract')\n",
        "plt.gca().set_aspect('equal')\n",
        "\n",
        "plt.show()"
      ],
      "execution_count": 110,
      "outputs": [
        {
          "output_type": "display_data",
          "data": {
            "image/png": "[encoded data removed]",
            "text/plain": [
              "<Figure size 432x288 with 1 Axes>"
            ]
          },
          "metadata": {}
        },
        {
          "output_type": "display_data",
          "data": {
            "image/png": "[encoded data removed]",
            "text/plain": [
              "<Figure size 432x288 with 1 Axes>"
            ]
          },
          "metadata": {}
        },
        {
          "output_type": "display_data",
          "data": {
            "image/png": "[encoded data removed]",
            "text/plain": [
              "<Figure size 432x288 with 1 Axes>"
            ]
          },
          "metadata": {}
        }
      ]
    },
    {
      "cell_type": "code",
      "metadata": {
        "id": "pa2SLDRKimAk"
      },
      "source": [
        "# One hot encoding for categorical columns.\n",
        "df = pd.get_dummies(data=df, columns=['InternetService','Contract','PaymentMethod'])\n"
      ],
      "execution_count": 111,
      "outputs": []
    },
    {
      "cell_type": "code",
      "metadata": {
        "id": "svf-qIbUilYV",
        "colab": {
          "base_uri": "https://localhost:8080/",
          "height": 258
        },
        "outputId": "c83df3dc-e752-4133-ed09-cb352835daee"
      },
      "source": [
        "df.head()"
      ],
      "execution_count": 112,
      "outputs": [
        {
          "output_type": "execute_result",
          "data": {
            "text/html": [
              "<div>\n",
              "<style scoped>\n",
              "    .dataframe tbody tr th:only-of-type {\n",
              "        vertical-align: middle;\n",
              "    }\n",
              "\n",
              "    .dataframe tbody tr th {\n",
              "        vertical-align: top;\n",
              "    }\n",
              "\n",
              "    .dataframe thead th {\n",
              "        text-align: right;\n",
              "    }\n",
              "</style>\n",
              "<table border=\"1\" class=\"dataframe\">\n",
              "  <thead>\n",
              "    <tr style=\"text-align: right;\">\n",
              "      <th></th>\n",
              "      <th>gender</th>\n",
              "      <th>SeniorCitizen</th>\n",
              "      <th>Partner</th>\n",
              "      <th>Dependents</th>\n",
              "      <th>tenure</th>\n",
              "      <th>PhoneService</th>\n",
              "      <th>MultipleLines</th>\n",
              "      <th>OnlineSecurity</th>\n",
              "      <th>OnlineBackup</th>\n",
              "      <th>DeviceProtection</th>\n",
              "      <th>TechSupport</th>\n",
              "      <th>StreamingTV</th>\n",
              "      <th>StreamingMovies</th>\n",
              "      <th>PaperlessBilling</th>\n",
              "      <th>MonthlyCharges</th>\n",
              "      <th>TotalCharges</th>\n",
              "      <th>Churn</th>\n",
              "      <th>InternetService_0</th>\n",
              "      <th>InternetService_DSL</th>\n",
              "      <th>InternetService_Fiber optic</th>\n",
              "      <th>Contract_Month-to-month</th>\n",
              "      <th>Contract_One year</th>\n",
              "      <th>Contract_Two year</th>\n",
              "      <th>PaymentMethod_Bank transfer (automatic)</th>\n",
              "      <th>PaymentMethod_Credit card (automatic)</th>\n",
              "      <th>PaymentMethod_Electronic check</th>\n",
              "      <th>PaymentMethod_Mailed check</th>\n",
              "    </tr>\n",
              "  </thead>\n",
              "  <tbody>\n",
              "    <tr>\n",
              "      <th>0</th>\n",
              "      <td>1</td>\n",
              "      <td>0</td>\n",
              "      <td>1</td>\n",
              "      <td>0</td>\n",
              "      <td>1</td>\n",
              "      <td>0</td>\n",
              "      <td>0</td>\n",
              "      <td>0</td>\n",
              "      <td>1</td>\n",
              "      <td>0</td>\n",
              "      <td>0</td>\n",
              "      <td>0</td>\n",
              "      <td>0</td>\n",
              "      <td>1</td>\n",
              "      <td>29.85</td>\n",
              "      <td>29.85</td>\n",
              "      <td>0</td>\n",
              "      <td>0</td>\n",
              "      <td>1</td>\n",
              "      <td>0</td>\n",
              "      <td>1</td>\n",
              "      <td>0</td>\n",
              "      <td>0</td>\n",
              "      <td>0</td>\n",
              "      <td>0</td>\n",
              "      <td>1</td>\n",
              "      <td>0</td>\n",
              "    </tr>\n",
              "    <tr>\n",
              "      <th>1</th>\n",
              "      <td>0</td>\n",
              "      <td>0</td>\n",
              "      <td>0</td>\n",
              "      <td>0</td>\n",
              "      <td>34</td>\n",
              "      <td>1</td>\n",
              "      <td>0</td>\n",
              "      <td>1</td>\n",
              "      <td>0</td>\n",
              "      <td>1</td>\n",
              "      <td>0</td>\n",
              "      <td>0</td>\n",
              "      <td>0</td>\n",
              "      <td>0</td>\n",
              "      <td>56.95</td>\n",
              "      <td>1889.50</td>\n",
              "      <td>0</td>\n",
              "      <td>0</td>\n",
              "      <td>1</td>\n",
              "      <td>0</td>\n",
              "      <td>0</td>\n",
              "      <td>1</td>\n",
              "      <td>0</td>\n",
              "      <td>0</td>\n",
              "      <td>0</td>\n",
              "      <td>0</td>\n",
              "      <td>1</td>\n",
              "    </tr>\n",
              "    <tr>\n",
              "      <th>2</th>\n",
              "      <td>0</td>\n",
              "      <td>0</td>\n",
              "      <td>0</td>\n",
              "      <td>0</td>\n",
              "      <td>2</td>\n",
              "      <td>1</td>\n",
              "      <td>0</td>\n",
              "      <td>1</td>\n",
              "      <td>1</td>\n",
              "      <td>0</td>\n",
              "      <td>0</td>\n",
              "      <td>0</td>\n",
              "      <td>0</td>\n",
              "      <td>1</td>\n",
              "      <td>53.85</td>\n",
              "      <td>108.15</td>\n",
              "      <td>1</td>\n",
              "      <td>0</td>\n",
              "      <td>1</td>\n",
              "      <td>0</td>\n",
              "      <td>1</td>\n",
              "      <td>0</td>\n",
              "      <td>0</td>\n",
              "      <td>0</td>\n",
              "      <td>0</td>\n",
              "      <td>0</td>\n",
              "      <td>1</td>\n",
              "    </tr>\n",
              "    <tr>\n",
              "      <th>3</th>\n",
              "      <td>0</td>\n",
              "      <td>0</td>\n",
              "      <td>0</td>\n",
              "      <td>0</td>\n",
              "      <td>45</td>\n",
              "      <td>0</td>\n",
              "      <td>0</td>\n",
              "      <td>1</td>\n",
              "      <td>0</td>\n",
              "      <td>1</td>\n",
              "      <td>1</td>\n",
              "      <td>0</td>\n",
              "      <td>0</td>\n",
              "      <td>0</td>\n",
              "      <td>42.30</td>\n",
              "      <td>1840.75</td>\n",
              "      <td>0</td>\n",
              "      <td>0</td>\n",
              "      <td>1</td>\n",
              "      <td>0</td>\n",
              "      <td>0</td>\n",
              "      <td>1</td>\n",
              "      <td>0</td>\n",
              "      <td>1</td>\n",
              "      <td>0</td>\n",
              "      <td>0</td>\n",
              "      <td>0</td>\n",
              "    </tr>\n",
              "    <tr>\n",
              "      <th>4</th>\n",
              "      <td>1</td>\n",
              "      <td>0</td>\n",
              "      <td>0</td>\n",
              "      <td>0</td>\n",
              "      <td>2</td>\n",
              "      <td>1</td>\n",
              "      <td>0</td>\n",
              "      <td>0</td>\n",
              "      <td>0</td>\n",
              "      <td>0</td>\n",
              "      <td>0</td>\n",
              "      <td>0</td>\n",
              "      <td>0</td>\n",
              "      <td>1</td>\n",
              "      <td>70.70</td>\n",
              "      <td>151.65</td>\n",
              "      <td>1</td>\n",
              "      <td>0</td>\n",
              "      <td>0</td>\n",
              "      <td>1</td>\n",
              "      <td>1</td>\n",
              "      <td>0</td>\n",
              "      <td>0</td>\n",
              "      <td>0</td>\n",
              "      <td>0</td>\n",
              "      <td>1</td>\n",
              "      <td>0</td>\n",
              "    </tr>\n",
              "  </tbody>\n",
              "</table>\n",
              "</div>"
            ],
            "text/plain": [
              "   gender  SeniorCitizen  Partner  Dependents  tenure  PhoneService  MultipleLines  OnlineSecurity  OnlineBackup  DeviceProtection  TechSupport  StreamingTV  StreamingMovies  PaperlessBilling  MonthlyCharges  TotalCharges  Churn  InternetService_0  InternetService_DSL  InternetService_Fiber optic  Contract_Month-to-month  Contract_One year  Contract_Two year  PaymentMethod_Bank transfer (automatic)  PaymentMethod_Credit card (automatic)  PaymentMethod_Electronic check  PaymentMethod_Mailed check\n",
              "0       1              0        1           0       1             0              0               0             1                 0            0            0                0                 1           29.85         29.85      0                  0                    1                            0                        1                  0                  0                                        0                                      0                               1                           0\n",
              "1       0              0        0           0      34             1              0               1             0                 1            0            0                0                 0           56.95       1889.50      0                  0                    1                            0                        0                  1                  0                                        0                                      0                               0                           1\n",
              "2       0              0        0           0       2             1              0               1             1                 0            0            0                0                 1           53.85        108.15      1                  0                    1                            0                        1                  0                  0                                        0                                      0                               0                           1\n",
              "3       0              0        0           0      45             0              0               1             0                 1            1            0                0                 0           42.30       1840.75      0                  0                    1                            0                        0                  1                  0                                        1                                      0                               0                           0\n",
              "4       1              0        0           0       2             1              0               0             0                 0            0            0                0                 1           70.70        151.65      1                  0                    0                            1                        1                  0                  0                                        0                                      0                               1                           0"
            ]
          },
          "metadata": {},
          "execution_count": 112
        }
      ]
    },
    {
      "cell_type": "code",
      "metadata": {
        "id": "oGwjyEulJ_qF"
      },
      "source": [
        "# Scaling the columns Tenure, Monthly Charges and Total Charges columns in the range 0 to 1.\n",
        "columns_to_scale=['tenure','MonthlyCharges','TotalCharges']\n",
        "from sklearn.preprocessing import MinMaxScaler\n",
        "scaler=MinMaxScaler()\n",
        "df[columns_to_scale]=scaler.fit_transform(df[columns_to_scale])"
      ],
      "execution_count": 113,
      "outputs": []
    },
    {
      "cell_type": "code",
      "metadata": {
        "colab": {
          "base_uri": "https://localhost:8080/",
          "height": 258
        },
        "id": "ei_gLmZuX6Jw",
        "outputId": "2822ef67-e252-4c1d-f6b9-9e9b2f17a888"
      },
      "source": [
        "df.head()"
      ],
      "execution_count": 114,
      "outputs": [
        {
          "output_type": "execute_result",
          "data": {
            "text/html": [
              "<div>\n",
              "<style scoped>\n",
              "    .dataframe tbody tr th:only-of-type {\n",
              "        vertical-align: middle;\n",
              "    }\n",
              "\n",
              "    .dataframe tbody tr th {\n",
              "        vertical-align: top;\n",
              "    }\n",
              "\n",
              "    .dataframe thead th {\n",
              "        text-align: right;\n",
              "    }\n",
              "</style>\n",
              "<table border=\"1\" class=\"dataframe\">\n",
              "  <thead>\n",
              "    <tr style=\"text-align: right;\">\n",
              "      <th></th>\n",
              "      <th>gender</th>\n",
              "      <th>SeniorCitizen</th>\n",
              "      <th>Partner</th>\n",
              "      <th>Dependents</th>\n",
              "      <th>tenure</th>\n",
              "      <th>PhoneService</th>\n",
              "      <th>MultipleLines</th>\n",
              "      <th>OnlineSecurity</th>\n",
              "      <th>OnlineBackup</th>\n",
              "      <th>DeviceProtection</th>\n",
              "      <th>TechSupport</th>\n",
              "      <th>StreamingTV</th>\n",
              "      <th>StreamingMovies</th>\n",
              "      <th>PaperlessBilling</th>\n",
              "      <th>MonthlyCharges</th>\n",
              "      <th>TotalCharges</th>\n",
              "      <th>Churn</th>\n",
              "      <th>InternetService_0</th>\n",
              "      <th>InternetService_DSL</th>\n",
              "      <th>InternetService_Fiber optic</th>\n",
              "      <th>Contract_Month-to-month</th>\n",
              "      <th>Contract_One year</th>\n",
              "      <th>Contract_Two year</th>\n",
              "      <th>PaymentMethod_Bank transfer (automatic)</th>\n",
              "      <th>PaymentMethod_Credit card (automatic)</th>\n",
              "      <th>PaymentMethod_Electronic check</th>\n",
              "      <th>PaymentMethod_Mailed check</th>\n",
              "    </tr>\n",
              "  </thead>\n",
              "  <tbody>\n",
              "    <tr>\n",
              "      <th>0</th>\n",
              "      <td>1</td>\n",
              "      <td>0</td>\n",
              "      <td>1</td>\n",
              "      <td>0</td>\n",
              "      <td>0.013889</td>\n",
              "      <td>0</td>\n",
              "      <td>0</td>\n",
              "      <td>0</td>\n",
              "      <td>1</td>\n",
              "      <td>0</td>\n",
              "      <td>0</td>\n",
              "      <td>0</td>\n",
              "      <td>0</td>\n",
              "      <td>1</td>\n",
              "      <td>0.115423</td>\n",
              "      <td>0.001275</td>\n",
              "      <td>0</td>\n",
              "      <td>0</td>\n",
              "      <td>1</td>\n",
              "      <td>0</td>\n",
              "      <td>1</td>\n",
              "      <td>0</td>\n",
              "      <td>0</td>\n",
              "      <td>0</td>\n",
              "      <td>0</td>\n",
              "      <td>1</td>\n",
              "      <td>0</td>\n",
              "    </tr>\n",
              "    <tr>\n",
              "      <th>1</th>\n",
              "      <td>0</td>\n",
              "      <td>0</td>\n",
              "      <td>0</td>\n",
              "      <td>0</td>\n",
              "      <td>0.472222</td>\n",
              "      <td>1</td>\n",
              "      <td>0</td>\n",
              "      <td>1</td>\n",
              "      <td>0</td>\n",
              "      <td>1</td>\n",
              "      <td>0</td>\n",
              "      <td>0</td>\n",
              "      <td>0</td>\n",
              "      <td>0</td>\n",
              "      <td>0.385075</td>\n",
              "      <td>0.215867</td>\n",
              "      <td>0</td>\n",
              "      <td>0</td>\n",
              "      <td>1</td>\n",
              "      <td>0</td>\n",
              "      <td>0</td>\n",
              "      <td>1</td>\n",
              "      <td>0</td>\n",
              "      <td>0</td>\n",
              "      <td>0</td>\n",
              "      <td>0</td>\n",
              "      <td>1</td>\n",
              "    </tr>\n",
              "    <tr>\n",
              "      <th>2</th>\n",
              "      <td>0</td>\n",
              "      <td>0</td>\n",
              "      <td>0</td>\n",
              "      <td>0</td>\n",
              "      <td>0.027778</td>\n",
              "      <td>1</td>\n",
              "      <td>0</td>\n",
              "      <td>1</td>\n",
              "      <td>1</td>\n",
              "      <td>0</td>\n",
              "      <td>0</td>\n",
              "      <td>0</td>\n",
              "      <td>0</td>\n",
              "      <td>1</td>\n",
              "      <td>0.354229</td>\n",
              "      <td>0.010310</td>\n",
              "      <td>1</td>\n",
              "      <td>0</td>\n",
              "      <td>1</td>\n",
              "      <td>0</td>\n",
              "      <td>1</td>\n",
              "      <td>0</td>\n",
              "      <td>0</td>\n",
              "      <td>0</td>\n",
              "      <td>0</td>\n",
              "      <td>0</td>\n",
              "      <td>1</td>\n",
              "    </tr>\n",
              "    <tr>\n",
              "      <th>3</th>\n",
              "      <td>0</td>\n",
              "      <td>0</td>\n",
              "      <td>0</td>\n",
              "      <td>0</td>\n",
              "      <td>0.625000</td>\n",
              "      <td>0</td>\n",
              "      <td>0</td>\n",
              "      <td>1</td>\n",
              "      <td>0</td>\n",
              "      <td>1</td>\n",
              "      <td>1</td>\n",
              "      <td>0</td>\n",
              "      <td>0</td>\n",
              "      <td>0</td>\n",
              "      <td>0.239303</td>\n",
              "      <td>0.210241</td>\n",
              "      <td>0</td>\n",
              "      <td>0</td>\n",
              "      <td>1</td>\n",
              "      <td>0</td>\n",
              "      <td>0</td>\n",
              "      <td>1</td>\n",
              "      <td>0</td>\n",
              "      <td>1</td>\n",
              "      <td>0</td>\n",
              "      <td>0</td>\n",
              "      <td>0</td>\n",
              "    </tr>\n",
              "    <tr>\n",
              "      <th>4</th>\n",
              "      <td>1</td>\n",
              "      <td>0</td>\n",
              "      <td>0</td>\n",
              "      <td>0</td>\n",
              "      <td>0.027778</td>\n",
              "      <td>1</td>\n",
              "      <td>0</td>\n",
              "      <td>0</td>\n",
              "      <td>0</td>\n",
              "      <td>0</td>\n",
              "      <td>0</td>\n",
              "      <td>0</td>\n",
              "      <td>0</td>\n",
              "      <td>1</td>\n",
              "      <td>0.521891</td>\n",
              "      <td>0.015330</td>\n",
              "      <td>1</td>\n",
              "      <td>0</td>\n",
              "      <td>0</td>\n",
              "      <td>1</td>\n",
              "      <td>1</td>\n",
              "      <td>0</td>\n",
              "      <td>0</td>\n",
              "      <td>0</td>\n",
              "      <td>0</td>\n",
              "      <td>1</td>\n",
              "      <td>0</td>\n",
              "    </tr>\n",
              "  </tbody>\n",
              "</table>\n",
              "</div>"
            ],
            "text/plain": [
              "   gender  SeniorCitizen  Partner  Dependents    tenure  PhoneService  MultipleLines  OnlineSecurity  OnlineBackup  DeviceProtection  TechSupport  StreamingTV  StreamingMovies  PaperlessBilling  MonthlyCharges  TotalCharges  Churn  InternetService_0  InternetService_DSL  InternetService_Fiber optic  Contract_Month-to-month  Contract_One year  Contract_Two year  PaymentMethod_Bank transfer (automatic)  PaymentMethod_Credit card (automatic)  PaymentMethod_Electronic check  PaymentMethod_Mailed check\n",
              "0       1              0        1           0  0.013889             0              0               0             1                 0            0            0                0                 1        0.115423      0.001275      0                  0                    1                            0                        1                  0                  0                                        0                                      0                               1                           0\n",
              "1       0              0        0           0  0.472222             1              0               1             0                 1            0            0                0                 0        0.385075      0.215867      0                  0                    1                            0                        0                  1                  0                                        0                                      0                               0                           1\n",
              "2       0              0        0           0  0.027778             1              0               1             1                 0            0            0                0                 1        0.354229      0.010310      1                  0                    1                            0                        1                  0                  0                                        0                                      0                               0                           1\n",
              "3       0              0        0           0  0.625000             0              0               1             0                 1            1            0                0                 0        0.239303      0.210241      0                  0                    1                            0                        0                  1                  0                                        1                                      0                               0                           0\n",
              "4       1              0        0           0  0.027778             1              0               0             0                 0            0            0                0                 1        0.521891      0.015330      1                  0                    0                            1                        1                  0                  0                                        0                                      0                               1                           0"
            ]
          },
          "metadata": {},
          "execution_count": 114
        }
      ]
    },
    {
      "cell_type": "markdown",
      "metadata": {
        "id": "M-rLbfVnaBQM"
      },
      "source": [
        "## **Model building**"
      ]
    },
    {
      "cell_type": "code",
      "metadata": {
        "id": "832Gbg2VX6Mt"
      },
      "source": [
        "from sklearn.model_selection import train_test_split"
      ],
      "execution_count": 115,
      "outputs": []
    },
    {
      "cell_type": "code",
      "metadata": {
        "id": "KsSrJEGPZ8pO"
      },
      "source": [
        "x=df.drop('Churn',axis='columns')\n",
        "y=df['Churn']"
      ],
      "execution_count": 116,
      "outputs": []
    },
    {
      "cell_type": "code",
      "metadata": {
        "id": "vHRYALb7bcNm"
      },
      "source": [
        "x_train,x_test,y_train,y_test=train_test_split(x,y,test_size=0.2,random_state=5)"
      ],
      "execution_count": 117,
      "outputs": []
    },
    {
      "cell_type": "code",
      "metadata": {
        "colab": {
          "base_uri": "https://localhost:8080/"
        },
        "id": "Ce9YhgMdZ8r1",
        "outputId": "e2ac53ff-bc1f-48f6-8d01-f361f968276b"
      },
      "source": [
        "print('Size of x training set data:',x_train.shape)\n",
        "print('Size of y training set data:',y_train.shape)\n",
        "print('Size of x test set data:',x_test.shape)\n",
        "print('Size of y test set data:',y_test.shape)\n"
      ],
      "execution_count": 118,
      "outputs": [
        {
          "output_type": "stream",
          "text": [
            "Size of x training set data: (5634, 26)\n",
            "Size of y training set data: (5634,)\n",
            "Size of x test set data: (1409, 26)\n",
            "Size of y test set data: (1409,)\n"
          ],
          "name": "stdout"
        }
      ]
    },
    {
      "cell_type": "code",
      "metadata": {
        "id": "KFANB5LvZ8uB"
      },
      "source": [
        "import tensorflow as tf\n",
        "from tensorflow import keras"
      ],
      "execution_count": 119,
      "outputs": []
    },
    {
      "cell_type": "code",
      "metadata": {
        "colab": {
          "base_uri": "https://localhost:8080/"
        },
        "id": "_XWppMS4gVkT",
        "outputId": "41602ca8-bf1b-4f0d-cb41-3793c27b169f"
      },
      "source": [
        "y_test[:10]"
      ],
      "execution_count": 120,
      "outputs": [
        {
          "output_type": "execute_result",
          "data": {
            "text/plain": [
              "4213    1\n",
              "5035    0\n",
              "3713    1\n",
              "1720    0\n",
              "234     0\n",
              "4558    1\n",
              "40      0\n",
              "3455    1\n",
              "5944    1\n",
              "1089    0\n",
              "Name: Churn, dtype: int64"
            ]
          },
          "metadata": {},
          "execution_count": 120
        }
      ]
    },
    {
      "cell_type": "code",
      "metadata": {
        "colab": {
          "base_uri": "https://localhost:8080/"
        },
        "id": "Ptpt37orciQB",
        "outputId": "f8eab56b-a3c8-4102-828a-80a6d4836dc1"
      },
      "source": [
        "# Building the ANN Model in Keras.\n",
        "model = keras.Sequential([\n",
        "    keras.layers.Dense(26, input_shape=(26,), activation='relu'),\n",
        "    keras.layers.Dense(15, activation='relu'),\n",
        "    keras.layers.Dense(1, activation='sigmoid')\n",
        "])\n",
        "\n",
        "model.compile(optimizer='adam',\n",
        "              loss='binary_crossentropy',\n",
        "              metrics=['accuracy'])\n",
        "\n",
        "mdl = model.fit(x_train, y_train, epochs=100, )\n",
        "\n",
        "\n",
        "\n",
        "\n"
      ],
      "execution_count": 121,
      "outputs": [
        {
          "output_type": "stream",
          "text": [
            "Epoch 1/100\n",
            "177/177 [==============================] - 1s 2ms/step - loss: nan - accuracy: 0.7368\n",
            "Epoch 2/100\n",
            "177/177 [==============================] - 0s 2ms/step - loss: nan - accuracy: 0.7368\n",
            "Epoch 3/100\n",
            "177/177 [==============================] - 0s 2ms/step - loss: nan - accuracy: 0.7368\n",
            "Epoch 4/100\n",
            "177/177 [==============================] - 0s 2ms/step - loss: nan - accuracy: 0.7368\n",
            "Epoch 5/100\n",
            "177/177 [==============================] - 0s 2ms/step - loss: nan - accuracy: 0.7368\n",
            "Epoch 6/100\n",
            "177/177 [==============================] - 0s 2ms/step - loss: nan - accuracy: 0.7368\n",
            "Epoch 7/100\n",
            "177/177 [==============================] - 0s 2ms/step - loss: nan - accuracy: 0.7368\n",
            "Epoch 8/100\n",
            "177/177 [==============================] - 0s 2ms/step - loss: nan - accuracy: 0.7368\n",
            "Epoch 9/100\n",
            "177/177 [==============================] - 0s 2ms/step - loss: nan - accuracy: 0.7368\n",
            "Epoch 10/100\n",
            "177/177 [==============================] - 0s 2ms/step - loss: nan - accuracy: 0.7368\n",
            "Epoch 11/100\n",
            "177/177 [==============================] - 0s 2ms/step - loss: nan - accuracy: 0.7368\n",
            "Epoch 12/100\n",
            "177/177 [==============================] - 0s 2ms/step - loss: nan - accuracy: 0.7368\n",
            "Epoch 13/100\n",
            "177/177 [==============================] - 0s 2ms/step - loss: nan - accuracy: 0.7368\n",
            "Epoch 14/100\n",
            "177/177 [==============================] - 0s 2ms/step - loss: nan - accuracy: 0.7368\n",
            "Epoch 15/100\n",
            "177/177 [==============================] - 0s 2ms/step - loss: nan - accuracy: 0.7368\n",
            "Epoch 16/100\n",
            "177/177 [==============================] - 0s 2ms/step - loss: nan - accuracy: 0.7368\n",
            "Epoch 17/100\n",
            "177/177 [==============================] - 0s 2ms/step - loss: nan - accuracy: 0.7368\n",
            "Epoch 18/100\n",
            "177/177 [==============================] - 0s 2ms/step - loss: nan - accuracy: 0.7368\n",
            "Epoch 19/100\n",
            "177/177 [==============================] - 0s 2ms/step - loss: nan - accuracy: 0.7368\n",
            "Epoch 20/100\n",
            "177/177 [==============================] - 0s 1ms/step - loss: nan - accuracy: 0.7368\n",
            "Epoch 21/100\n",
            "177/177 [==============================] - 0s 2ms/step - loss: nan - accuracy: 0.7368\n",
            "Epoch 22/100\n",
            "177/177 [==============================] - 0s 2ms/step - loss: nan - accuracy: 0.7368\n",
            "Epoch 23/100\n",
            "177/177 [==============================] - 0s 2ms/step - loss: nan - accuracy: 0.7368\n",
            "Epoch 24/100\n",
            "177/177 [==============================] - 0s 2ms/step - loss: nan - accuracy: 0.7368\n",
            "Epoch 25/100\n",
            "177/177 [==============================] - 0s 2ms/step - loss: nan - accuracy: 0.7368\n",
            "Epoch 26/100\n",
            "177/177 [==============================] - 0s 2ms/step - loss: nan - accuracy: 0.7368\n",
            "Epoch 27/100\n",
            "177/177 [==============================] - 0s 2ms/step - loss: nan - accuracy: 0.7368\n",
            "Epoch 28/100\n",
            "177/177 [==============================] - 0s 2ms/step - loss: nan - accuracy: 0.7368\n",
            "Epoch 29/100\n",
            "177/177 [==============================] - 0s 2ms/step - loss: nan - accuracy: 0.7368\n",
            "Epoch 30/100\n",
            "177/177 [==============================] - 0s 2ms/step - loss: nan - accuracy: 0.7368\n",
            "Epoch 31/100\n",
            "177/177 [==============================] - 0s 1ms/step - loss: nan - accuracy: 0.7368\n",
            "Epoch 32/100\n",
            "177/177 [==============================] - 0s 2ms/step - loss: nan - accuracy: 0.7368\n",
            "Epoch 33/100\n",
            "177/177 [==============================] - 0s 2ms/step - loss: nan - accuracy: 0.7368\n",
            "Epoch 34/100\n",
            "177/177 [==============================] - 0s 2ms/step - loss: nan - accuracy: 0.7368\n",
            "Epoch 35/100\n",
            "177/177 [==============================] - 0s 2ms/step - loss: nan - accuracy: 0.7368\n",
            "Epoch 36/100\n",
            "177/177 [==============================] - 0s 2ms/step - loss: nan - accuracy: 0.7368\n",
            "Epoch 37/100\n",
            "177/177 [==============================] - 0s 2ms/step - loss: nan - accuracy: 0.7368\n",
            "Epoch 38/100\n",
            "177/177 [==============================] - 0s 1ms/step - loss: nan - accuracy: 0.7368\n",
            "Epoch 39/100\n",
            "177/177 [==============================] - 0s 2ms/step - loss: nan - accuracy: 0.7368\n",
            "Epoch 40/100\n",
            "177/177 [==============================] - 0s 2ms/step - loss: nan - accuracy: 0.7368\n",
            "Epoch 41/100\n",
            "177/177 [==============================] - 0s 2ms/step - loss: nan - accuracy: 0.7368\n",
            "Epoch 42/100\n",
            "177/177 [==============================] - 0s 2ms/step - loss: nan - accuracy: 0.7368\n",
            "Epoch 43/100\n",
            "177/177 [==============================] - 0s 2ms/step - loss: nan - accuracy: 0.7368\n",
            "Epoch 44/100\n",
            "177/177 [==============================] - 0s 2ms/step - loss: nan - accuracy: 0.7368\n",
            "Epoch 45/100\n",
            "177/177 [==============================] - 0s 2ms/step - loss: nan - accuracy: 0.7368\n",
            "Epoch 46/100\n",
            "177/177 [==============================] - 0s 2ms/step - loss: nan - accuracy: 0.7368\n",
            "Epoch 47/100\n",
            "177/177 [==============================] - 0s 2ms/step - loss: nan - accuracy: 0.7368\n",
            "Epoch 48/100\n",
            "177/177 [==============================] - 0s 2ms/step - loss: nan - accuracy: 0.7368\n",
            "Epoch 49/100\n",
            "177/177 [==============================] - 0s 2ms/step - loss: nan - accuracy: 0.7368\n",
            "Epoch 50/100\n",
            "177/177 [==============================] - 0s 2ms/step - loss: nan - accuracy: 0.7368\n",
            "Epoch 51/100\n",
            "177/177 [==============================] - 0s 2ms/step - loss: nan - accuracy: 0.7368\n",
            "Epoch 52/100\n",
            "177/177 [==============================] - 0s 2ms/step - loss: nan - accuracy: 0.7368\n",
            "Epoch 53/100\n",
            "177/177 [==============================] - 0s 2ms/step - loss: nan - accuracy: 0.7368\n",
            "Epoch 54/100\n",
            "177/177 [==============================] - 0s 2ms/step - loss: nan - accuracy: 0.7368\n",
            "Epoch 55/100\n",
            "177/177 [==============================] - 0s 2ms/step - loss: nan - accuracy: 0.7368\n",
            "Epoch 56/100\n",
            "177/177 [==============================] - 0s 2ms/step - loss: nan - accuracy: 0.7368\n",
            "Epoch 57/100\n",
            "177/177 [==============================] - 0s 2ms/step - loss: nan - accuracy: 0.7368\n",
            "Epoch 58/100\n",
            "177/177 [==============================] - 0s 2ms/step - loss: nan - accuracy: 0.7368\n",
            "Epoch 59/100\n",
            "177/177 [==============================] - 0s 2ms/step - loss: nan - accuracy: 0.7368\n",
            "Epoch 60/100\n",
            "177/177 [==============================] - 0s 2ms/step - loss: nan - accuracy: 0.7368\n",
            "Epoch 61/100\n",
            "177/177 [==============================] - 0s 2ms/step - loss: nan - accuracy: 0.7368\n",
            "Epoch 62/100\n",
            "177/177 [==============================] - 0s 2ms/step - loss: nan - accuracy: 0.7368\n",
            "Epoch 63/100\n",
            "177/177 [==============================] - 0s 2ms/step - loss: nan - accuracy: 0.7368\n",
            "Epoch 64/100\n",
            "177/177 [==============================] - 0s 2ms/step - loss: nan - accuracy: 0.7368\n",
            "Epoch 65/100\n",
            "177/177 [==============================] - 0s 2ms/step - loss: nan - accuracy: 0.7368\n",
            "Epoch 66/100\n",
            "177/177 [==============================] - 0s 2ms/step - loss: nan - accuracy: 0.7368\n",
            "Epoch 67/100\n",
            "177/177 [==============================] - 0s 2ms/step - loss: nan - accuracy: 0.7368\n",
            "Epoch 68/100\n",
            "177/177 [==============================] - 0s 2ms/step - loss: nan - accuracy: 0.7368\n",
            "Epoch 69/100\n",
            "177/177 [==============================] - 0s 2ms/step - loss: nan - accuracy: 0.7368\n",
            "Epoch 70/100\n",
            "177/177 [==============================] - 0s 2ms/step - loss: nan - accuracy: 0.7368\n",
            "Epoch 71/100\n",
            "177/177 [==============================] - 0s 2ms/step - loss: nan - accuracy: 0.7368\n",
            "Epoch 72/100\n",
            "177/177 [==============================] - 0s 2ms/step - loss: nan - accuracy: 0.7368\n",
            "Epoch 73/100\n",
            "177/177 [==============================] - 0s 2ms/step - loss: nan - accuracy: 0.7368\n",
            "Epoch 74/100\n",
            "177/177 [==============================] - 0s 2ms/step - loss: nan - accuracy: 0.7368\n",
            "Epoch 75/100\n",
            "177/177 [==============================] - 0s 2ms/step - loss: nan - accuracy: 0.7368\n",
            "Epoch 76/100\n",
            "177/177 [==============================] - 0s 2ms/step - loss: nan - accuracy: 0.7368\n",
            "Epoch 77/100\n",
            "177/177 [==============================] - 0s 2ms/step - loss: nan - accuracy: 0.7368\n",
            "Epoch 78/100\n",
            "177/177 [==============================] - 0s 2ms/step - loss: nan - accuracy: 0.7368\n",
            "Epoch 79/100\n",
            "177/177 [==============================] - 0s 2ms/step - loss: nan - accuracy: 0.7368\n",
            "Epoch 80/100\n",
            "177/177 [==============================] - 0s 2ms/step - loss: nan - accuracy: 0.7368\n",
            "Epoch 81/100\n",
            "177/177 [==============================] - 0s 2ms/step - loss: nan - accuracy: 0.7368\n",
            "Epoch 82/100\n",
            "177/177 [==============================] - 0s 2ms/step - loss: nan - accuracy: 0.7368\n",
            "Epoch 83/100\n",
            "177/177 [==============================] - 0s 2ms/step - loss: nan - accuracy: 0.7368\n",
            "Epoch 84/100\n",
            "177/177 [==============================] - 0s 2ms/step - loss: nan - accuracy: 0.7368\n",
            "Epoch 85/100\n",
            "177/177 [==============================] - 0s 2ms/step - loss: nan - accuracy: 0.7368\n",
            "Epoch 86/100\n",
            "177/177 [==============================] - 0s 2ms/step - loss: nan - accuracy: 0.7368\n",
            "Epoch 87/100\n",
            "177/177 [==============================] - 0s 2ms/step - loss: nan - accuracy: 0.7368\n",
            "Epoch 88/100\n",
            "177/177 [==============================] - 0s 2ms/step - loss: nan - accuracy: 0.7368\n",
            "Epoch 89/100\n",
            "177/177 [==============================] - 0s 2ms/step - loss: nan - accuracy: 0.7368\n",
            "Epoch 90/100\n",
            "177/177 [==============================] - 0s 2ms/step - loss: nan - accuracy: 0.7368\n",
            "Epoch 91/100\n",
            "177/177 [==============================] - 0s 2ms/step - loss: nan - accuracy: 0.7368\n",
            "Epoch 92/100\n",
            "177/177 [==============================] - 0s 2ms/step - loss: nan - accuracy: 0.7368\n",
            "Epoch 93/100\n",
            "177/177 [==============================] - 0s 2ms/step - loss: nan - accuracy: 0.7368\n",
            "Epoch 94/100\n",
            "177/177 [==============================] - 0s 2ms/step - loss: nan - accuracy: 0.7368\n",
            "Epoch 95/100\n",
            "177/177 [==============================] - 0s 2ms/step - loss: nan - accuracy: 0.7368\n",
            "Epoch 96/100\n",
            "177/177 [==============================] - 0s 2ms/step - loss: nan - accuracy: 0.7368\n",
            "Epoch 97/100\n",
            "177/177 [==============================] - 0s 2ms/step - loss: nan - accuracy: 0.7368\n",
            "Epoch 98/100\n",
            "177/177 [==============================] - 0s 2ms/step - loss: nan - accuracy: 0.7368\n",
            "Epoch 99/100\n",
            "177/177 [==============================] - 0s 2ms/step - loss: nan - accuracy: 0.7368\n",
            "Epoch 100/100\n",
            "177/177 [==============================] - 0s 2ms/step - loss: nan - accuracy: 0.7368\n"
          ],
          "name": "stdout"
        }
      ]
    },
    {
      "cell_type": "code",
      "metadata": {
        "colab": {
          "base_uri": "https://localhost:8080/"
        },
        "id": "N22Nsc3lciS2",
        "outputId": "74eff69c-e939-4922-e6df-ff5eb0e1ab28"
      },
      "source": [
        "# Showing model details.\n",
        "model.summary()"
      ],
      "execution_count": 122,
      "outputs": [
        {
          "output_type": "stream",
          "text": [
            "Model: \"sequential_2\"\n",
            "_________________________________________________________________\n",
            "Layer (type)                 Output Shape              Param #   \n",
            "=================================================================\n",
            "dense_6 (Dense)              (None, 26)                702       \n",
            "_________________________________________________________________\n",
            "dense_7 (Dense)              (None, 15)                405       \n",
            "_________________________________________________________________\n",
            "dense_8 (Dense)              (None, 1)                 16        \n",
            "=================================================================\n",
            "Total params: 1,123\n",
            "Trainable params: 1,123\n",
            "Non-trainable params: 0\n",
            "_________________________________________________________________\n"
          ],
          "name": "stdout"
        }
      ]
    },
    {
      "cell_type": "code",
      "metadata": {
        "id": "6VJbdZh4ciV1"
      },
      "source": [
        "ypred=model.predict(x_test)"
      ],
      "execution_count": 123,
      "outputs": []
    },
    {
      "cell_type": "code",
      "metadata": {
        "id": "ZeCYsA4MJ_sN",
        "colab": {
          "base_uri": "https://localhost:8080/"
        },
        "outputId": "faea214f-6f8d-41a2-c654-f244de3bf3c4"
      },
      "source": [
        "ypred[:5]"
      ],
      "execution_count": 124,
      "outputs": [
        {
          "output_type": "execute_result",
          "data": {
            "text/plain": [
              "array([[nan],\n",
              "       [nan],\n",
              "       [nan],\n",
              "       [nan],\n",
              "       [nan]], dtype=float32)"
            ]
          },
          "metadata": {},
          "execution_count": 124
        }
      ]
    }
  ]
}